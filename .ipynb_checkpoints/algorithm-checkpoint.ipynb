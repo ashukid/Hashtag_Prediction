{
 "cells": [
  {
   "cell_type": "code",
   "execution_count": 1,
   "metadata": {},
   "outputs": [],
   "source": [
    "# todo\n",
    "# what is embedding and how to do that -> Done\n",
    "# how to use inception or opencv for training for multiple object\n",
    "# how to get the bottleneck layer\n",
    "# how to map the bottleneck layer to map with hastags\n",
    "# how to use the model for prediction\n",
    "# how saving and loading works"
   ]
  },
  {
   "cell_type": "code",
   "execution_count": 19,
   "metadata": {},
   "outputs": [],
   "source": [
    "import pandas as pd\n",
    "import numpy as np\n",
    "import tensorflow as tf\n",
    "import cv2\n",
    "import matplotlib.pyplot as plt\n",
    "import os"
   ]
  },
  {
   "cell_type": "code",
   "execution_count": 20,
   "metadata": {},
   "outputs": [],
   "source": [
    "# this function is used to convert the images to 128*128 tensors\n",
    "def image_to_tensor():\n",
    "    image_path = 'images'\n",
    "    image_path = os.getcwd() + \"/\" + image_path\n",
    "    file_reader=os.listdir(image_path)\n",
    "\n",
    "    train=[]\n",
    "    for image in file_reader:\n",
    "        if(image.lower().endswith(('.png', '.jpg', '.jpeg'))):\n",
    "            # parameter 0 for grayscale, 1 for RGB\n",
    "            im = cv2.imread(os.path.join(image_path,image),0)\n",
    "            im = cv2.resize(im,(128,128))\n",
    "            # taking the image alongwith the name for sorting\n",
    "            train.append([im,int(image.split('.')[0])])\n",
    "\n",
    "\n",
    "    # training data converted from list to numpy arrays and saved on the disk\n",
    "    train=np.array(train)\n",
    "    # sorting the array according to their name \n",
    "    # 1,2,3,4... for hashtag mapping\n",
    "    train = np.array(sorted(train,key = lambda x:x[1]))\n",
    "    # only taking the images, removing the names\n",
    "    train = train[:,0]\n",
    "    train = np.array([x for x in train])\n",
    "    train = np.reshape(train,[-1,128,128,1])\n",
    "    np.save(\"train.npy\",train)\n",
    "\n",
    "# calling the function\n",
    "image_to_tensor()\n"
   ]
  },
  {
   "cell_type": "code",
   "execution_count": 21,
   "metadata": {},
   "outputs": [],
   "source": [
    "def word_embedding(array):\n",
    "    \n",
    "    unique_words={}\n",
    "    word_count = 0\n",
    "    for sentences in array:\n",
    "        words = sentences.split(' ')\n",
    "        words = [word.replace('#','') for word in words]\n",
    "        \n",
    "        for word in words:\n",
    "            if(unique_words.get(word) == None):\n",
    "                unique_words[word] = word_count\n",
    "                word_count +=1\n",
    "        \n",
    "    count_vector = []\n",
    "    for sentences in array:\n",
    "        words = sentences.split(' ')\n",
    "        words = [word.replace('#','') for word in words]\n",
    "        temp = [0]*len(unique_words)\n",
    "        for word in words:\n",
    "            temp[unique_words[word]]=1\n",
    "        count_vector.append(temp)\n",
    "    \n",
    "    return (np.array(count_vector),unique_words)\n"
   ]
  },
  {
   "cell_type": "code",
   "execution_count": 22,
   "metadata": {},
   "outputs": [],
   "source": [
    "xTrain = np.load('train.npy')\n",
    "y_ = np.array(pd.read_csv('hashtags.csv',header=None))\n",
    "y_ = [first[0] for first in y_] # taking the string out of the array\n",
    "# embedding the hastags into y*d dimensional vector\n",
    "# y = total number of hashtags\n",
    "# d = all the unique hashtags in the dictionary\n",
    "yTrain,unique_words = word_embedding(y_)\n",
    "output_neuron = len(unique_words)\n",
    "\n",
    "x = tf.placeholder(tf.float32,[None,128,128,1])\n",
    "y = tf.placeholder(tf.float32,[None,output_neuron])"
   ]
  },
  {
   "cell_type": "code",
   "execution_count": 23,
   "metadata": {},
   "outputs": [],
   "source": [
    "# neural network model\n",
    "def weight_variable(shape):\n",
    "    initial = tf.truncated_normal(shape, stddev=0.1,dtype=tf.float32)\n",
    "    return tf.Variable(initial)\n",
    "\n",
    "def bias_variable(shape):\n",
    "    initial = tf.constant(0.1, shape=shape,dtype=tf.float32)\n",
    "    return tf.Variable(initial)\n",
    "\n",
    "def conv2d(x, W):\n",
    "    return tf.nn.conv2d(x, W, strides=[1, 1, 1, 1], padding='SAME')\n",
    "\n",
    "def max_pool_2x2(x):\n",
    "    return tf.nn.max_pool(x, ksize=[1, 2, 2, 1],strides=[1, 2, 2, 1], padding='SAME') \n",
    "\n",
    "# 1st convolution layer\n",
    "w1 = weight_variable([5,5,1,32])\n",
    "b1 = bias_variable([32])\n",
    "l1 = tf.nn.relu(conv2d(x,w1)+b1)\n",
    "l1 = max_pool_2x2(l1)\n",
    "\n",
    "# 2nd Convolution layer\n",
    "w2 = weight_variable([5,5,32,64])\n",
    "b2 = bias_variable([64])\n",
    "l2 = tf.nn.relu(conv2d(l1,w2)+b2)\n",
    "l2 = max_pool_2x2(l2)\n",
    "\n",
    "# flatten layer\n",
    "# also called as image descriptor layer\n",
    "# or image features layer\n",
    "w3 = weight_variable([32*32*64,512])\n",
    "b3 = bias_variable([512])\n",
    "l2 = tf.reshape(l2,[-1,32*32*64])\n",
    "l3 = tf.nn.relu(tf.matmul(l2,w3)+b3)\n",
    "\n",
    "# need to map this l3 to hashtags\n",
    "# <---- let do the hashtags first ----->\n",
    "\n",
    "# x = tf.placeholder(tf.float32,[-1,128,128,1])\n",
    "w4 = weight_variable([512,output_neuron])\n",
    "b4 = bias_variable([output_neuron])\n",
    "output = tf.nn.sigmoid(tf.matmul(l3,w4)+b4)"
   ]
  },
  {
   "cell_type": "code",
   "execution_count": 6,
   "metadata": {},
   "outputs": [
    {
     "name": "stdout",
     "output_type": "stream",
     "text": [
      "0 done !!\n"
     ]
    }
   ],
   "source": [
    "# for training the graph\n",
    "cross_entropy = tf.nn.softmax_cross_entropy_with_logits_v2(labels=y,logits=output)\n",
    "cross_entropy = tf.reduce_mean(cross_entropy)\n",
    "optimize = tf.train.AdamOptimizer(0.01).minimize(cross_entropy)\n",
    "\n",
    "sess = tf.InteractiveSession()\n",
    "sess.run(tf.global_variables_initializer())\n",
    "for epoch in range(500):\n",
    "    sess.run(optimize,feed_dict={x:xTrain,y:yTrain})\n",
    "    if(epoch % 10 ==0):\n",
    "        print(f'{epoch} done !!')\n",
    "        \n",
    "        "
   ]
  },
  {
   "cell_type": "code",
   "execution_count": 18,
   "metadata": {},
   "outputs": [],
   "source": [
    "# sess = tf.get_default_session()\n",
    "# sess.run(tf.global_variables_initializer())\n",
    "# sess.run(output,feed_dict={x:xTrain})"
   ]
  },
  {
   "cell_type": "code",
   "execution_count": 17,
   "metadata": {},
   "outputs": [],
   "source": [
    "def test_image_reader(image):\n",
    "    if(image.lower().endswith(('.png', '.jpg', '.jpeg'))):\n",
    "        im = cv2.imread(os.path.join(os.getcwd(),image),0)\n",
    "        im = cv2.resize(im,(128,128))\n",
    "        return (im,int(image.split('.')[0]))"
   ]
  },
  {
   "cell_type": "code",
   "execution_count": 16,
   "metadata": {},
   "outputs": [
    {
     "ename": "NameError",
     "evalue": "name 'test_image_reader' is not defined",
     "output_type": "error",
     "traceback": [
      "\u001b[0;31m---------------------------------------------------------------------------\u001b[0m",
      "\u001b[0;31mNameError\u001b[0m                                 Traceback (most recent call last)",
      "\u001b[0;32m<ipython-input-16-4ef28ec65a6d>\u001b[0m in \u001b[0;36m<module>\u001b[0;34m()\u001b[0m\n\u001b[0;32m----> 1\u001b[0;31m \u001b[0mxTest\u001b[0m\u001b[0;34m,\u001b[0m\u001b[0mlabel\u001b[0m \u001b[0;34m=\u001b[0m \u001b[0mtest_image_reader\u001b[0m\u001b[0;34m(\u001b[0m\u001b[0;34m'5.png'\u001b[0m\u001b[0;34m)\u001b[0m\u001b[0;34m\u001b[0m\u001b[0m\n\u001b[0m\u001b[1;32m      2\u001b[0m \u001b[0myTest\u001b[0m \u001b[0;34m=\u001b[0m \u001b[0myTrain\u001b[0m\u001b[0;34m[\u001b[0m\u001b[0mlabel\u001b[0m\u001b[0;34m-\u001b[0m\u001b[0;36m1\u001b[0m\u001b[0;34m]\u001b[0m\u001b[0;34m\u001b[0m\u001b[0m\n\u001b[1;32m      3\u001b[0m \u001b[0mxTest\u001b[0m \u001b[0;34m=\u001b[0m \u001b[0mnp\u001b[0m\u001b[0;34m.\u001b[0m\u001b[0mreshape\u001b[0m\u001b[0;34m(\u001b[0m\u001b[0mxTest\u001b[0m\u001b[0;34m,\u001b[0m\u001b[0;34m[\u001b[0m\u001b[0;34m-\u001b[0m\u001b[0;36m1\u001b[0m\u001b[0;34m,\u001b[0m\u001b[0;36m128\u001b[0m\u001b[0;34m,\u001b[0m\u001b[0;36m128\u001b[0m\u001b[0;34m,\u001b[0m\u001b[0;36m1\u001b[0m\u001b[0;34m]\u001b[0m\u001b[0;34m)\u001b[0m\u001b[0;34m\u001b[0m\u001b[0m\n\u001b[1;32m      4\u001b[0m \u001b[0myTest\u001b[0m \u001b[0;34m=\u001b[0m \u001b[0mnp\u001b[0m\u001b[0;34m.\u001b[0m\u001b[0mreshape\u001b[0m\u001b[0;34m(\u001b[0m\u001b[0myTest\u001b[0m\u001b[0;34m,\u001b[0m\u001b[0;34m[\u001b[0m\u001b[0;34m-\u001b[0m\u001b[0;36m1\u001b[0m\u001b[0;34m,\u001b[0m\u001b[0moutput_neuron\u001b[0m\u001b[0;34m]\u001b[0m\u001b[0;34m)\u001b[0m\u001b[0;34m\u001b[0m\u001b[0m\n",
      "\u001b[0;31mNameError\u001b[0m: name 'test_image_reader' is not defined"
     ]
    }
   ],
   "source": [
    "xTest,label = test_image_reader('5.png')\n",
    "yTest = yTrain[label-1]\n",
    "xTest = np.reshape(xTest,[-1,128,128,1])\n",
    "yTest = np.reshape(yTest,[-1,output_neuron])"
   ]
  },
  {
   "cell_type": "code",
   "execution_count": 15,
   "metadata": {},
   "outputs": [
    {
     "ename": "NameError",
     "evalue": "name 'xTest' is not defined",
     "output_type": "error",
     "traceback": [
      "\u001b[0;31m---------------------------------------------------------------------------\u001b[0m",
      "\u001b[0;31mNameError\u001b[0m                                 Traceback (most recent call last)",
      "\u001b[0;32m<ipython-input-15-ce60be17a95e>\u001b[0m in \u001b[0;36m<module>\u001b[0;34m()\u001b[0m\n\u001b[0;32m----> 1\u001b[0;31m \u001b[0mpredict\u001b[0m \u001b[0;34m=\u001b[0m \u001b[0msess\u001b[0m\u001b[0;34m.\u001b[0m\u001b[0mrun\u001b[0m\u001b[0;34m(\u001b[0m\u001b[0moutput\u001b[0m\u001b[0;34m,\u001b[0m\u001b[0mfeed_dict\u001b[0m\u001b[0;34m=\u001b[0m\u001b[0;34m{\u001b[0m\u001b[0mx\u001b[0m\u001b[0;34m:\u001b[0m\u001b[0mxTest\u001b[0m\u001b[0;34m,\u001b[0m\u001b[0my\u001b[0m\u001b[0;34m:\u001b[0m\u001b[0myTest\u001b[0m\u001b[0;34m}\u001b[0m\u001b[0;34m)\u001b[0m\u001b[0;34m[\u001b[0m\u001b[0;36m0\u001b[0m\u001b[0;34m]\u001b[0m\u001b[0;34m\u001b[0m\u001b[0m\n\u001b[0m\u001b[1;32m      2\u001b[0m \u001b[0mprediction\u001b[0m \u001b[0;34m=\u001b[0m \u001b[0;34m[\u001b[0m\u001b[0;34m]\u001b[0m\u001b[0;34m\u001b[0m\u001b[0m\n\u001b[1;32m      3\u001b[0m \u001b[0;32mfor\u001b[0m \u001b[0mi\u001b[0m \u001b[0;32min\u001b[0m \u001b[0mrange\u001b[0m\u001b[0;34m(\u001b[0m\u001b[0mlen\u001b[0m\u001b[0;34m(\u001b[0m\u001b[0mpredict\u001b[0m\u001b[0;34m)\u001b[0m\u001b[0;34m)\u001b[0m\u001b[0;34m:\u001b[0m\u001b[0;34m\u001b[0m\u001b[0m\n\u001b[1;32m      4\u001b[0m     \u001b[0;32mif\u001b[0m\u001b[0;34m(\u001b[0m\u001b[0mpredict\u001b[0m\u001b[0;34m[\u001b[0m\u001b[0mi\u001b[0m\u001b[0;34m]\u001b[0m\u001b[0;34m)\u001b[0m\u001b[0;34m:\u001b[0m\u001b[0;34m\u001b[0m\u001b[0m\n\u001b[1;32m      5\u001b[0m         \u001b[0mh\u001b[0m \u001b[0;34m=\u001b[0m \u001b[0;34m[\u001b[0m\u001b[0;34m'#'\u001b[0m\u001b[0;34m+\u001b[0m\u001b[0mkey\u001b[0m \u001b[0;32mfor\u001b[0m \u001b[0mkey\u001b[0m\u001b[0;34m,\u001b[0m\u001b[0mvalue\u001b[0m \u001b[0;32min\u001b[0m \u001b[0munique_words\u001b[0m\u001b[0;34m.\u001b[0m\u001b[0mitems\u001b[0m\u001b[0;34m(\u001b[0m\u001b[0;34m)\u001b[0m \u001b[0;32mif\u001b[0m \u001b[0mvalue\u001b[0m\u001b[0;34m==\u001b[0m\u001b[0mi\u001b[0m\u001b[0;34m]\u001b[0m\u001b[0;34m\u001b[0m\u001b[0m\n",
      "\u001b[0;31mNameError\u001b[0m: name 'xTest' is not defined"
     ]
    }
   ],
   "source": [
    "predict = sess.run(output,feed_dict={x:xTest,y:yTest})[0]\n",
    "prediction = []\n",
    "for i in range(len(predict)):\n",
    "    if(predict[i]):\n",
    "        h = ['#'+key for key,value in unique_words.items() if value==i]\n",
    "        prediction.append(h)\n",
    "print(prediction)"
   ]
  },
  {
   "cell_type": "code",
   "execution_count": null,
   "metadata": {},
   "outputs": [],
   "source": []
  }
 ],
 "metadata": {
  "kernelspec": {
   "display_name": "Python 3",
   "language": "python",
   "name": "python3"
  },
  "language_info": {
   "codemirror_mode": {
    "name": "ipython",
    "version": 3
   },
   "file_extension": ".py",
   "mimetype": "text/x-python",
   "name": "python",
   "nbconvert_exporter": "python",
   "pygments_lexer": "ipython3",
   "version": "3.6.5"
  }
 },
 "nbformat": 4,
 "nbformat_minor": 2
}
