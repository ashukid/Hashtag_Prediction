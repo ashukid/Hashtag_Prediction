{
 "cells": [
  {
   "cell_type": "code",
   "execution_count": 1,
   "metadata": {},
   "outputs": [],
   "source": [
    "import pandas as pd\n",
    "import numpy as np\n",
    "import tensorflow as tf\n",
    "import cv2\n",
    "import matplotlib.pyplot as plt\n",
    "import os"
   ]
  },
  {
   "cell_type": "code",
   "execution_count": null,
   "metadata": {},
   "outputs": [],
   "source": [
    "# this function is used to convert the images to 128*128 tensors\n",
    "def image_to_tensor():\n",
    "#     image_path=raw_input(\"Enter Image Directory : \")\n",
    "    image_path = 'images'\n",
    "    image_path = os.getcwd() + \"/\" + image_path\n",
    "    file_reader=os.listdir(image_path)\n",
    "\n",
    "    train=[]\n",
    "    for image in file_reader:\n",
    "        if(image.lower().endswith(('.png', '.jpg', '.jpeg'))):\n",
    "            # parameter 0 for grayscale, 1 for RGB\n",
    "            im = cv2.imread(os.path.join(path,image),0)\n",
    "            im = cv2.resize(im,(32,32))\n",
    "            train.append([im,image])\n",
    "\n",
    "\n",
    "    # training data and labels converted from list to numpy arrays and saved on the disk\n",
    "    train=np.array(train)\n",
    "    np.save(\"train.npy\",train)\n",
    "\n",
    "# calling the function\n",
    "image_to_tensor()\n"
   ]
  }
 ],
 "metadata": {
  "kernelspec": {
   "display_name": "Python 3",
   "language": "python",
   "name": "python3"
  },
  "language_info": {
   "codemirror_mode": {
    "name": "ipython",
    "version": 3
   },
   "file_extension": ".py",
   "mimetype": "text/x-python",
   "name": "python",
   "nbconvert_exporter": "python",
   "pygments_lexer": "ipython3",
   "version": "3.6.5"
  }
 },
 "nbformat": 4,
 "nbformat_minor": 2
}
