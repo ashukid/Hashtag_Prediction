{
 "cells": [
  {
   "cell_type": "code",
   "execution_count": null,
   "metadata": {},
   "outputs": [],
   "source": [
    "# todo\n",
    "# what is embedding and how to do that -> Done\n",
    "# how to use inception or opencv for training for multiple object\n",
    "# how to get the bottleneck layer\n",
    "# how to map the bottleneck layer to map with hastags\n",
    "# how to use the model for prediction"
   ]
  },
  {
   "cell_type": "code",
   "execution_count": 4,
   "metadata": {},
   "outputs": [],
   "source": [
    "import pandas as pd\n",
    "import numpy as np\n",
    "import tensorflow as tf\n",
    "import cv2\n",
    "import matplotlib.pyplot as plt\n",
    "import os"
   ]
  },
  {
   "cell_type": "code",
   "execution_count": 94,
   "metadata": {},
   "outputs": [],
   "source": [
    "# this function is used to convert the images to 128*128 tensors\n",
    "def image_to_tensor():\n",
    "    image_path = 'images'\n",
    "    image_path = os.getcwd() + \"/\" + image_path\n",
    "    file_reader=os.listdir(image_path)\n",
    "\n",
    "    train=[]\n",
    "    for image in file_reader:\n",
    "        if(image.lower().endswith(('.png', '.jpg', '.jpeg'))):\n",
    "            # parameter 0 for grayscale, 1 for RGB\n",
    "            im = cv2.imread(os.path.join(image_path,image),0)\n",
    "            im = cv2.resize(im,(128,128))\n",
    "            # taking the image alongwith the name for sorting\n",
    "            train.append([im,int(image.split('.')[0])])\n",
    "\n",
    "\n",
    "    # training data converted from list to numpy arrays and saved on the disk\n",
    "    train=np.array(train)\n",
    "    # sorting the array according to their name \n",
    "    # 1,2,3,4... for hashtag mapping\n",
    "    train = np.array(sorted(train,key = lambda x:x[1]))\n",
    "    # only taking the images, removing the names\n",
    "    train = train[:,0]\n",
    "    train = np.array([x for x in train])\n",
    "    train = np.reshape(train,[-1,128,128,1])\n",
    "    np.save(\"train.npy\",train)\n",
    "\n",
    "# calling the function\n",
    "image_to_tensor()\n"
   ]
  },
  {
   "cell_type": "code",
   "execution_count": 121,
   "metadata": {},
   "outputs": [],
   "source": [
    "def word_embedding(array):\n",
    "    \n",
    "    for sentences in array:\n",
    "        words = sentences.split(' ')\n",
    "        print(words)\n",
    "        break"
   ]
  },
  {
   "cell_type": "code",
   "execution_count": 122,
   "metadata": {},
   "outputs": [
    {
     "name": "stdout",
     "output_type": "stream",
     "text": [
      "['#cat', '#catlife', '#catlover', '#catlovers', '#catofinstagram', '#catoftheday', '#cats', '#catsagram', '#catsofinstagram', '#catstagram', '#cats_of_instagram', '#cats_today', '#caturday', '#cutecat', '#cutecats', '#excellent_cats', '#gato', '#gatos', '#ilovecats', '#ilovemycat', '#instacat', '#kittens', '#lovecats', '#magnificent_meowdels', '#meow', '#mycat', '#mycats', '#neko', '#topcatphoto']\n"
     ]
    }
   ],
   "source": [
    "x = np.load('train.npy')\n",
    "y = np.array(pd.read_csv('hashtags.csv',header=None))\n",
    "y = [first[0] for first in y] # taking the string out of the array\n",
    "# embedding the hastags into d dimensional vector\n",
    "# d = all the unique hashtags in the dictionary\n",
    "word_embedding(y)"
   ]
  },
  {
   "cell_type": "code",
   "execution_count": 113,
   "metadata": {},
   "outputs": [
    {
     "data": {
      "text/plain": [
       "'#cat #catlife #catlover #catlovers #catofinstagram #catoftheday #cats #catsagram #catsofinstagram #catstagram #cats_of_instagram #cats_today #caturday #cutecat #cutecats #excellent_cats #gato #gatos #ilovecats #ilovemycat #instacat #kittens #lovecats #magnificent_meowdels #meow #mycat #mycats #neko #topcatphoto'"
      ]
     },
     "execution_count": 113,
     "metadata": {},
     "output_type": "execute_result"
    }
   ],
   "source": []
  },
  {
   "cell_type": "code",
   "execution_count": null,
   "metadata": {},
   "outputs": [],
   "source": []
  }
 ],
 "metadata": {
  "kernelspec": {
   "display_name": "Python 3",
   "language": "python",
   "name": "python3"
  },
  "language_info": {
   "codemirror_mode": {
    "name": "ipython",
    "version": 3
   },
   "file_extension": ".py",
   "mimetype": "text/x-python",
   "name": "python",
   "nbconvert_exporter": "python",
   "pygments_lexer": "ipython3",
   "version": "3.6.5"
  }
 },
 "nbformat": 4,
 "nbformat_minor": 2
}
